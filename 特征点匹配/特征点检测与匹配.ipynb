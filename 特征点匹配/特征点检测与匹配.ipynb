{
 "cells": [
  {
   "cell_type": "code",
   "execution_count": 1,
   "metadata": {
    "collapsed": true,
    "pycharm": {
     "name": "#%%\n"
    }
   },
   "outputs": [],
   "source": [
    "import numpy as np\n",
    "import matplotlib\n",
    "import matplotlib.pylab as plt\n",
    "import cv2\n",
    "\n",
    "matplotlib.use('TkAgg')"
   ]
  },
  {
   "cell_type": "code",
   "execution_count": 20,
   "outputs": [],
   "source": [
    "# Harris角点检测\n",
    "img = plt.imread(\"wangba2.jpeg\").copy()\n",
    "img_ = img.copy()\n",
    "gray = np.float32(cv2.cvtColor(img, cv2.COLOR_BGR2GRAY))\n",
    "harris = cv2.cornerHarris(gray, 2, 3, 0.04)\n",
    "harris = cv2.dilate(harris, None)  # 膨胀，方便显示\n",
    "img[harris > 0.01 * harris.max()] = [255, 0, 0]\n",
    "\n",
    "plt.subplot(1, 2, 1)\n",
    "plt.axis(\"off\")\n",
    "plt.imshow(img_)\n",
    "plt.subplot(1, 2, 2)\n",
    "plt.axis(\"off\")\n",
    "plt.imshow(img)\n",
    "plt.show()"
   ],
   "metadata": {
    "collapsed": false,
    "pycharm": {
     "name": "#%%\n"
    }
   }
  },
  {
   "cell_type": "code",
   "execution_count": 37,
   "outputs": [],
   "source": [
    "# ORB特征点提取\n",
    "img = plt.imread(\"wangba.jpeg\").copy()\n",
    "\n",
    "orb = cv2.ORB_create()  # 可以自定义很多参数\n",
    "kp = orb.detect(img)  # 特征点\n",
    "\n",
    "kp_img = cv2.drawKeypoints(img, keypoints=kp, outImage=None, color=300)\n",
    "\n",
    "# 绘制\n",
    "plt.subplot(1, 2, 1)\n",
    "plt.axis(\"off\")\n",
    "plt.imshow(img)\n",
    "plt.subplot(1, 2, 2)\n",
    "plt.axis(\"off\")\n",
    "plt.imshow(kp_img)\n",
    "plt.show()"
   ],
   "metadata": {
    "collapsed": false,
    "pycharm": {
     "name": "#%%\n"
    }
   }
  },
  {
   "cell_type": "code",
   "execution_count": 52,
   "outputs": [],
   "source": [
    "# ORB特征点匹配\n",
    "img1 = plt.imread(\"wangba.jpeg\").copy()\n",
    "img2 = plt.imread(\"wangba2.jpeg\").copy()\n",
    "orb = cv2.ORB_create()\n",
    "# 特征点、描述子\n",
    "kp1, des1 = orb.detectAndCompute(img1, None)\n",
    "kp2, des2 = orb.detectAndCompute(img2, None)\n",
    "# 匹配\n",
    "match = cv2.BFMatcher(cv2.NORM_HAMMING, crossCheck=True).match(des1, des2)\n",
    "match = sorted(match, key=lambda x: x.distance)\n",
    "# 取最近的minN个绘制\n",
    "minN = 20\n",
    "img3 = cv2.drawMatches(img1, kp1, img2, kp2, match[:minN], None)\n",
    "plt.imshow(img3)\n",
    "plt.show()"
   ],
   "metadata": {
    "collapsed": false,
    "pycharm": {
     "name": "#%%\n"
    }
   }
  }
 ],
 "metadata": {
  "kernelspec": {
   "display_name": "Python 3",
   "language": "python",
   "name": "python3"
  },
  "language_info": {
   "codemirror_mode": {
    "name": "ipython",
    "version": 2
   },
   "file_extension": ".py",
   "mimetype": "text/x-python",
   "name": "python",
   "nbconvert_exporter": "python",
   "pygments_lexer": "ipython2",
   "version": "2.7.6"
  }
 },
 "nbformat": 4,
 "nbformat_minor": 0
}